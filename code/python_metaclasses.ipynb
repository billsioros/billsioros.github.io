{
 "cells": [
  {
   "cell_type": "markdown",
   "metadata": {},
   "source": [
    "# Let's Talk Python Metaclasses!\n",
    "\n",
    "> Where Classes Get Their Magic!\n",
    "\n",
    "\n",
    "Python metaclasses give you control over class creation and behavior. They act as blueprints, shaping inheritance and behavior. Just as classes govern instances, metaclasses oversee classes."
   ]
  },
  {
   "cell_type": "code",
   "execution_count": 1,
   "metadata": {},
   "outputs": [
    {
     "name": "stdout",
     "output_type": "stream",
     "text": [
      "Requirement already satisfied: python_jsonschema_objects in /root/portfolio/.env/lib/python3.8/site-packages (0.5.4)\n",
      "Requirement already satisfied: inflection>=0.2 in /root/portfolio/.env/lib/python3.8/site-packages (from python_jsonschema_objects) (0.5.1)\n",
      "Requirement already satisfied: Markdown>=2.4 in /root/portfolio/.env/lib/python3.8/site-packages (from python_jsonschema_objects) (3.6)\n",
      "Requirement already satisfied: jsonschema>=4.18 in /root/portfolio/.env/lib/python3.8/site-packages (from python_jsonschema_objects) (4.21.1)\n",
      "Requirement already satisfied: six>=1.5.2 in /root/portfolio/.env/lib/python3.8/site-packages (from python_jsonschema_objects) (1.16.0)\n",
      "Requirement already satisfied: attrs>=22.2.0 in /root/portfolio/.env/lib/python3.8/site-packages (from jsonschema>=4.18->python_jsonschema_objects) (23.2.0)\n",
      "Requirement already satisfied: importlib-resources>=1.4.0 in /root/portfolio/.env/lib/python3.8/site-packages (from jsonschema>=4.18->python_jsonschema_objects) (6.4.0)\n",
      "Requirement already satisfied: jsonschema-specifications>=2023.03.6 in /root/portfolio/.env/lib/python3.8/site-packages (from jsonschema>=4.18->python_jsonschema_objects) (2023.12.1)\n",
      "Requirement already satisfied: pkgutil-resolve-name>=1.3.10 in /root/portfolio/.env/lib/python3.8/site-packages (from jsonschema>=4.18->python_jsonschema_objects) (1.3.10)\n",
      "Requirement already satisfied: referencing>=0.28.4 in /root/portfolio/.env/lib/python3.8/site-packages (from jsonschema>=4.18->python_jsonschema_objects) (0.34.0)\n",
      "Requirement already satisfied: rpds-py>=0.7.1 in /root/portfolio/.env/lib/python3.8/site-packages (from jsonschema>=4.18->python_jsonschema_objects) (0.18.0)\n",
      "Requirement already satisfied: importlib-metadata>=4.4 in /root/portfolio/.env/lib/python3.8/site-packages (from Markdown>=2.4->python_jsonschema_objects) (7.1.0)\n",
      "Requirement already satisfied: zipp>=0.5 in /root/portfolio/.env/lib/python3.8/site-packages (from importlib-metadata>=4.4->Markdown>=2.4->python_jsonschema_objects) (3.18.1)\n"
     ]
    }
   ],
   "source": [
    "!pip install python_jsonschema_objects"
   ]
  },
  {
   "cell_type": "markdown",
   "metadata": {},
   "source": [
    "## The Metaclass You're Probably Using Without Realizing It\n",
    "\n",
    "Ever heard of a metaclass called `abc.ABC`? Chances are you've been using it without even realizing it. This little gem is pretty handy for crafting abstract base classes (ABCs) in Python. It's like the rulebook that says, *\"Hey, if you're a subclass, you gotta follow these rules and implement these methods.\"*\n",
    "\n",
    "Take a look at `Vehicle` — it's an abstract base class setting the stage. And here comes `Car`, ready to roll as a subclass. But hey, to be a proper `Car`, it's gotta have that `move` method implemented. Thanks to `abc.ABC`, Python keeps everyone in line, making sure subclasses play by the rules."
   ]
  },
  {
   "cell_type": "code",
   "execution_count": 2,
   "metadata": {},
   "outputs": [],
   "source": [
    "from abc import ABC, abstractmethod\n",
    "\n",
    "class Vehicle(ABC):\n",
    "    @abstractmethod\n",
    "    def move(self):\n",
    "        pass\n",
    "\n",
    "class Car(Vehicle):\n",
    "    def move(self):\n",
    "        return \"Car is moving\""
   ]
  },
  {
   "cell_type": "markdown",
   "metadata": {},
   "source": [
    "## Let's Dive Deeper!\n",
    "\n",
    "Metaclasses often roll out the red carpet for the `__new__` and `__init__` magic methods, letting you customize class creation like a pro.\n",
    "\n",
    "- `__new__` is like the early bird of class creation, chirping before the class is even born. It's the one responsible for bringing the class object into existence. Here's where you can tweak base classes, but watch out for Method Resolution Order (MRO) issues if you're not careful.\n",
    "- Now, `__init__` strolls in fashionably late, after the class has been born. Its job is to spruce up the class object once it's out there in the world. When `__init__` arrives, the class's namespace is already filled with goodies, like attributes and all. So, it's your chance to add those final touches, knowing that the class is ready to rock and roll."
   ]
  },
  {
   "cell_type": "code",
   "execution_count": 3,
   "metadata": {},
   "outputs": [
    {
     "name": "stdout",
     "output_type": "stream",
     "text": [
      "Meta.__new__ called with metaclass: Meta\n",
      "Meta.__init__ called for class: Foo\n",
      "  Class attributes for Foo: None\n"
     ]
    }
   ],
   "source": [
    "class Meta(type):\n",
    "    def __new__(cls, name, bases, attrs, **kwargs):\n",
    "        print(\"Meta.__new__ called with metaclass: %s\" % cls.__name__)\n",
    "\n",
    "        # Call the __new__ method of the superclass (type) to create the class\n",
    "        return super().__new__(cls, name, bases, attrs)\n",
    "\n",
    "    def __init__(cls, name, bases, attrs):\n",
    "        print(\"Meta.__init__ called for class: %s\" % cls.__name__)\n",
    "\n",
    "        # Display class-level attributes\n",
    "        print(\n",
    "            \"  Class attributes for %s: %s\"\n",
    "            % (cls.__name__, getattr(cls, \"class_attribute\", None))\n",
    "        )\n",
    "\n",
    "        # Call the __init__ method of the superclass (type) to initialize the class\n",
    "        super().__init__(name, bases, attrs)\n",
    "\n",
    "class Foo(metaclass=Meta):\n",
    "    pass"
   ]
  },
  {
   "cell_type": "markdown",
   "metadata": {},
   "source": [
    "## Our first attempt"
   ]
  },
  {
   "cell_type": "code",
   "execution_count": 4,
   "metadata": {},
   "outputs": [
    {
     "name": "stdout",
     "output_type": "stream",
     "text": [
      "hello\n"
     ]
    }
   ],
   "source": [
    "class UppercaseAttributeMeta(type):\n",
    "    def __new__(cls, name, bases, dct):\n",
    "        uppercase_attrs = {\n",
    "            attr.upper(): value\n",
    "            for attr, value in dct.items()\n",
    "            if not attr.startswith(\"__\")  # Exclude magic methods\n",
    "        }\n",
    "        return super().__new__(cls, name, bases, uppercase_attrs)\n",
    "\n",
    "class Bar(metaclass=UppercaseAttributeMeta):\n",
    "    message = \"hello\"\n",
    "\n",
    "print(Bar.MESSAGE)"
   ]
  },
  {
   "cell_type": "markdown",
   "metadata": {},
   "source": [
    "So, what's happening here?\n",
    "\n",
    "We're creating a metaclass called `UppercaseAttributeMeta`. When we create a class and set its metaclass to `UppercaseAttributeMeta`, it's like telling Python, \"Hey, when you create this class, make sure all the attribute names are in uppercase!\"\n",
    "\n",
    "Inside our metaclass, we have a special method called `__new__`. This method is like the constructor for our class. It gets called when Python is creating a new class. Inside `__new__`, we're basically saying:\n",
    "\n",
    "1. \"Hey, Python, give me all the attributes (`attr`) and their values (`value`) that are inside this class (`dct`).\"\n",
    "2. \"Now, let's check each attribute. If it's not a special magic method (like `__init__`), let's convert its name to uppercase and store it in a new dictionary (`uppercase_attrs`).\"\n",
    "3. \"Okay, Python, go ahead and create the class for me, but use this new dictionary with the uppercase attribute names and their values.\"\n",
    "\n",
    "Then, we define a class called `Bar` and tell Python to use our `UppercaseAttributeMeta` metaclass. So, any attributes we define in `Bar` will automatically have their names converted to uppercase."
   ]
  },
  {
   "cell_type": "markdown",
   "metadata": {},
   "source": [
    "## JSON Made Easy"
   ]
  },
  {
   "cell_type": "markdown",
   "metadata": {},
   "source": [
    "Imagine you're developing an application that interacts heavily with JSON data. As part of your project, you find yourself repeatedly defining classes to represent different JSON structures. This manual process not only consumes time but also increases the likelihood of errors creeping into your codebase.\n",
    "\n",
    "Your objective is to devise a solution that automates the creation of these classes based on JSON schemas. By doing so, you aim to ensure that the classes generated adhere strictly to the schema specifications. This automation would significantly enhance code maintainability and reduce the potential for bugs when handling JSON data.\n",
    "\n",
    "Enter the `JsonSerializableMeta` metaclass! When a class is being created, this metaclass swoops in to see if there's a schema attribute present. If it finds one, it calls on the `ObjectBuilder` from the `python_jsonschema_objects` package to craft classes that mirror the schema. These classes are then added as bases to the original class. This ensures that schema rules are enforced, simplifying validation and allowing for seamless JSON object serialization and deserialization."
   ]
  },
  {
   "cell_type": "code",
   "execution_count": 5,
   "metadata": {},
   "outputs": [],
   "source": [
    "from abc import ABCMeta\n",
    "\n",
    "from python_jsonschema_objects import ObjectBuilder\n",
    "from python_jsonschema_objects.classbuilder import ProtocolBase\n",
    "\n",
    "class JsonSerializableMeta(ABCMeta):\n",
    "    def __new__(cls, name, bases, attrs) -> \"JsonSerializableMeta\":  # noqa: D102\n",
    "        try:\n",
    "            schema = attrs[\"schema\"]\n",
    "        except (KeyError, AttributeError):\n",
    "            return super().__new__(cls, name, bases, attrs)\n",
    "\n",
    "        builder = ObjectBuilder(schema)\n",
    "\n",
    "        classes = builder.build_classes(\n",
    "            strict=True,\n",
    "            named_only=True,\n",
    "            standardize_names=False,\n",
    "        )\n",
    "\n",
    "        json_schema = getattr(classes, name)\n",
    "\n",
    "        return super().__new__(cls, name, (*bases, json_schema), attrs)\n",
    "\n",
    "class JsonSerializable(ProtocolBase, metaclass=JsonSerializableMeta):\n",
    "    pass"
   ]
  },
  {
   "cell_type": "markdown",
   "metadata": {},
   "source": [
    "Let's now define a `User` class using the JSON schema for Spotify users."
   ]
  },
  {
   "cell_type": "code",
   "execution_count": 6,
   "metadata": {},
   "outputs": [],
   "source": [
    "class User(JsonSerializable):\n",
    "    schema = {\n",
    "        \"id\": \"https://dotify.com/track.user.json\",\n",
    "        \"$schema\": \"http://json-schema.org/draft-04/schema#\",\n",
    "        \"title\": \"User\",\n",
    "        \"type\": \"object\",\n",
    "        \"required\": [\"display_name\"],\n",
    "        \"properties\": {\n",
    "            \"display_name\": {\"type\": \"string\"},\n",
    "            \"external_urls\": {\n",
    "                \"type\": \"object\",\n",
    "                \"patternProperties\": {\"^.*$\": {\"type\": \"string\"}},\n",
    "                \"minProperties\": 1,\n",
    "            },\n",
    "            \"href\": {\n",
    "                \"type\": \"string\",\n",
    "                \"pattern\": \"https://api.spotify.com/v1/users/.*\",\n",
    "            },\n",
    "            \"id\": {\"type\": \"string\"},\n",
    "            \"type\": {\"type\": \"string\", \"pattern\": \"^user$\"},\n",
    "            \"uri\": {\"type\": \"string\", \"format\": \"uri\", \"pattern\": \"spotify:user:.*\"},\n",
    "        },\n",
    "    }"
   ]
  },
  {
   "cell_type": "markdown",
   "metadata": {},
   "source": [
    "`ObjectBuilder` can take the schema directly or a path to a JSON schema file. So, the schema attribute at the class level might not always be a dictionary. Here's an example where we end up with the same User class, no matter which way we go:"
   ]
  },
  {
   "cell_type": "code",
   "execution_count": 7,
   "metadata": {},
   "outputs": [],
   "source": [
    "import json\n",
    "\n",
    "schema = {\n",
    "    \"id\": \"https://dotify.com/track.user.json\",\n",
    "    \"$schema\": \"http://json-schema.org/draft-04/schema#\",\n",
    "    \"title\": \"User\",\n",
    "    \"type\": \"object\",\n",
    "    \"required\": [\"display_name\"],\n",
    "    \"properties\": {\n",
    "        \"display_name\": {\"type\": \"string\"},\n",
    "        \"external_urls\": {\n",
    "            \"type\": \"object\",\n",
    "            \"patternProperties\": {\"^.*$\": {\"type\": \"string\"}},\n",
    "            \"minProperties\": 1,\n",
    "        },\n",
    "        \"href\": {\n",
    "            \"type\": \"string\",\n",
    "            \"pattern\": \"https://api.spotify.com/v1/users/.*\",\n",
    "        },\n",
    "        \"id\": {\"type\": \"string\"},\n",
    "        \"type\": {\"type\": \"string\", \"pattern\": \"^user$\"},\n",
    "        \"uri\": {\"type\": \"string\", \"format\": \"uri\", \"pattern\": \"spotify:user:.*\"},\n",
    "    },\n",
    "}\n",
    "\n",
    "schema_path = \"./schema.json\"\n",
    "with open(schema_path, \"w\") as file:\n",
    "    file.write(json.dumps(schema, indent=4))\n",
    "\n",
    "\n",
    "class User(JsonSerializable):\n",
    "    schema = schema_path"
   ]
  },
  {
   "cell_type": "markdown",
   "metadata": {},
   "source": [
    "- When you create a `User` object with all the required info, everything kicks off smoothly.\n",
    "- But if you try to make a `User` without providing all the necessary details, it's like hitting a roadblock—validation errors pop up. This shows how the class sticks to its rules, making sure everything's in line with the schema during object creation."
   ]
  },
  {
   "cell_type": "code",
   "execution_count": 8,
   "metadata": {},
   "outputs": [
    {
     "data": {
      "text/plain": [
       "<User display_name=<Literal<str> Vassilis Sioros> external_urls=None href=None id=None type=None uri=None>"
      ]
     },
     "execution_count": 8,
     "metadata": {},
     "output_type": "execute_result"
    }
   ],
   "source": [
    "User(display_name=\"Vassilis Sioros\")"
   ]
  },
  {
   "cell_type": "code",
   "execution_count": 9,
   "metadata": {},
   "outputs": [
    {
     "ename": "ValidationError",
     "evalue": "'['display_name']' are required attributes for User",
     "output_type": "error",
     "traceback": [
      "\u001b[0;31m---------------------------------------------------------------------------\u001b[0m",
      "\u001b[0;31mValidationError\u001b[0m                           Traceback (most recent call last)",
      "Cell \u001b[0;32mIn[9], line 1\u001b[0m\n\u001b[0;32m----> 1\u001b[0m \u001b[43mUser\u001b[49m\u001b[43m(\u001b[49m\u001b[43m)\u001b[49m\n",
      "File \u001b[0;32m~/portfolio/.env/lib/python3.8/site-packages/python_jsonschema_objects/classbuilder.py:231\u001b[0m, in \u001b[0;36mProtocolBase.__init__\u001b[0;34m(self, **props)\u001b[0m\n\u001b[1;32m    219\u001b[0m         \u001b[38;5;28;01mraise\u001b[39;00m six\u001b[38;5;241m.\u001b[39mreraise(\n\u001b[1;32m    220\u001b[0m             \u001b[38;5;28mtype\u001b[39m(e),\n\u001b[1;32m    221\u001b[0m             \u001b[38;5;28mtype\u001b[39m(e)(\n\u001b[0;32m   (...)\u001b[0m\n\u001b[1;32m    227\u001b[0m             sys\u001b[38;5;241m.\u001b[39mexc_info()[\u001b[38;5;241m2\u001b[39m],\n\u001b[1;32m    228\u001b[0m         )\n\u001b[1;32m    230\u001b[0m \u001b[38;5;28;01mif\u001b[39;00m \u001b[38;5;28mgetattr\u001b[39m(\u001b[38;5;28mself\u001b[39m, \u001b[38;5;124m\"\u001b[39m\u001b[38;5;124m__strict__\u001b[39m\u001b[38;5;124m\"\u001b[39m, \u001b[38;5;28;01mNone\u001b[39;00m):\n\u001b[0;32m--> 231\u001b[0m     \u001b[38;5;28;43mself\u001b[39;49m\u001b[38;5;241;43m.\u001b[39;49m\u001b[43mvalidate\u001b[49m\u001b[43m(\u001b[49m\u001b[43m)\u001b[49m\n",
      "File \u001b[0;32m~/portfolio/.env/lib/python3.8/site-packages/python_jsonschema_objects/classbuilder.py:327\u001b[0m, in \u001b[0;36mProtocolBase.validate\u001b[0;34m(self)\u001b[0m\n\u001b[1;32m    324\u001b[0m missing \u001b[38;5;241m=\u001b[39m \u001b[38;5;28mself\u001b[39m\u001b[38;5;241m.\u001b[39mmissing_property_names()\n\u001b[1;32m    326\u001b[0m \u001b[38;5;28;01mif\u001b[39;00m \u001b[38;5;28mlen\u001b[39m(missing) \u001b[38;5;241m>\u001b[39m \u001b[38;5;241m0\u001b[39m:\n\u001b[0;32m--> 327\u001b[0m     \u001b[38;5;28;01mraise\u001b[39;00m validators\u001b[38;5;241m.\u001b[39mValidationError(\n\u001b[1;32m    328\u001b[0m         \u001b[38;5;124m\"\u001b[39m\u001b[38;5;124m'\u001b[39m\u001b[38;5;132;01m{0}\u001b[39;00m\u001b[38;5;124m'\u001b[39m\u001b[38;5;124m are required attributes for \u001b[39m\u001b[38;5;132;01m{1}\u001b[39;00m\u001b[38;5;124m\"\u001b[39m\u001b[38;5;241m.\u001b[39mformat(\n\u001b[1;32m    329\u001b[0m             missing, \u001b[38;5;28mself\u001b[39m\u001b[38;5;241m.\u001b[39m\u001b[38;5;18m__class__\u001b[39m\u001b[38;5;241m.\u001b[39m\u001b[38;5;18m__name__\u001b[39m\n\u001b[1;32m    330\u001b[0m         )\n\u001b[1;32m    331\u001b[0m     )\n\u001b[1;32m    333\u001b[0m \u001b[38;5;28;01mfor\u001b[39;00m prop, val \u001b[38;5;129;01min\u001b[39;00m six\u001b[38;5;241m.\u001b[39miteritems(\u001b[38;5;28mself\u001b[39m\u001b[38;5;241m.\u001b[39m_properties):\n\u001b[1;32m    334\u001b[0m     \u001b[38;5;28;01mif\u001b[39;00m val \u001b[38;5;129;01mis\u001b[39;00m \u001b[38;5;28;01mNone\u001b[39;00m:\n",
      "\u001b[0;31mValidationError\u001b[0m: '['display_name']' are required attributes for User"
     ]
    }
   ],
   "source": [
    "User()"
   ]
  }
 ],
 "metadata": {
  "kernelspec": {
   "display_name": ".env",
   "language": "python",
   "name": "python3"
  },
  "language_info": {
   "codemirror_mode": {
    "name": "ipython",
    "version": 3
   },
   "file_extension": ".py",
   "mimetype": "text/x-python",
   "name": "python",
   "nbconvert_exporter": "python",
   "pygments_lexer": "ipython3",
   "version": "3.8.9"
  }
 },
 "nbformat": 4,
 "nbformat_minor": 2
}
