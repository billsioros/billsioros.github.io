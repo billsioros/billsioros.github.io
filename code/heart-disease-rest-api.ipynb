{
 "cells": [
  {
   "cell_type": "markdown",
   "metadata": {},
   "source": [
    "# Building a REST API: FastAPI to the Rescue!\n",
    "\n",
    "Heart disease is like the uninvited guest that crashes the party, causing 17.9 million deaths every year—about 31% of all deaths worldwide, with many victims under 70. But what if we could predict when this party crasher is coming? That’s where machine learning steps in, superhero-style! These models act like crystal balls for your health, scanning data for warning signs like high blood pressure or cholesterol to predict who’s at risk of heart disease.\n",
    "\n",
    "In a [previous post](https://billsioros.github.io/posts/heart-disease-prediction/), we trained one of these models using the [Heart Disease Prediction Dataset](https://www.kaggle.com/datasets/fedesoriano/heart-failure-prediction). Now, we’re going to kick things up a notch and build a REST API to make this model accessible to the world! And our tool of choice? [`FastAPI`](https://fastapi.tiangolo.com/), *a lightning-fast, easy-to-use framework that makes building APIs with Python a breeze.*\n",
    "\n",
    "So, what’s a [`REST`](https://en.wikipedia.org/wiki/REST) API, you ask? It’s how apps talk to each other over the internet. REST APIs handle requests like `GET` (grab info), `POST` (send info), `PUT` (update info), and `DELETE` (bye-bye info). FastAPI makes setting this up simple, fast, and fun. Ready to dive in? Let’s get started!\n"
   ]
  },
  {
   "cell_type": "code",
   "execution_count": null,
   "metadata": {},
   "outputs": [],
   "source": [
    "!pip install \\\n",
    "    pydantic==2.8.2 \\\n",
    "    pydantic-settings==2.3.4 \\\n",
    "    fastapi==0.111.1 \\\n",
    "    uvicorn==0.30.3 \\\n",
    "    pandas==2.2.2 \\\n",
    "    scikit-learn==1.5.1 \\\n",
    "    joblib==1.4.2 \\\n",
    "    xgboost==2.1.0 \\\n",
    "    pyngrok"
   ]
  },
  {
   "cell_type": "code",
   "execution_count": null,
   "metadata": {},
   "outputs": [],
   "source": [
    "!test -f model.joblib || wget https://raw.githubusercontent.com/billsioros/billsioros.github.io/master/static/data/model.joblib"
   ]
  },
  {
   "cell_type": "markdown",
   "metadata": {},
   "source": [
    "## Crafting a Data Blueprint\n",
    "\n",
    "First, we need a blueprint for the data that users will send us, kind of like a form where they fill in their details. For this, we use [`Pydantic`](https://docs.pydantic.dev/latest/). So, what’s Pydantic? Think of it as the bouncer for your API—it checks that all incoming data is valid and properly structured before letting it through.\n",
    "\n",
    "Here’s a quick rundown of what’s happening:\n",
    "\n",
    "- This is our blueprint for incoming data. It’s like a form where users fill in their details. Each field comes with rules (e.g., age must be between 0 and 130) so we’re working with data that makes sense and fits what our machine learning model needs.\n",
    "- We use `IntEnum` from Python’s `enum` module to handle categories like `Sex`, `ChestPain`, and `StSlope`. These ensure only valid options are passed.\n",
    "- The `Field` function lets us set validation rules (e.g., minimum and maximum values) and add descriptions. This way, anyone using the API knows exactly what each field is for—no guesswork required!\n",
    "- The `HeartBeatSchema` is an extension of `HeartBeatCreateSchema`. It adds extra fields like `id`, which acts as a unique identifier for each record, and `heart_disease`, which holds the prediction from our model. Think of `HeartBeatSchema` as mimicking a database record creation operation—it's what you'll get back once the data is processed and stored."
   ]
  },
  {
   "cell_type": "code",
   "execution_count": null,
   "metadata": {},
   "outputs": [],
   "source": [
    "from pydantic import BaseModel, Field\n",
    "\n",
    "from enum import IntEnum, auto\n",
    "\n",
    "\n",
    "class Sex(IntEnum):\n",
    "    MALE = auto()\n",
    "    FEMALE = auto()\n",
    "\n",
    "\n",
    "class ChestPain(IntEnum):\n",
    "    TYPICAL_ANGINA = auto()\n",
    "    ATYPICAL_ANGINA = auto()\n",
    "    NON_ANGINAL_PAIN = auto()\n",
    "    ASYMPTOMATIC = auto()\n",
    "\n",
    "\n",
    "class StSlope(IntEnum):\n",
    "    UP = auto()\n",
    "    FLAT = auto()\n",
    "    DOWN = auto()\n",
    "\n",
    "\n",
    "\n",
    "class HeartBeatCreateSchema(BaseModel):\n",
    "    class Config:\n",
    "        from_attributes = True\n",
    "\n",
    "    age: int = Field(..., ge=0, le=130, description=\"Age of the patient [years]\")\n",
    "    sex: Sex\n",
    "    chest_pain_type: ChestPain\n",
    "    fasting_blood_sugar: bool = Field(\n",
    "        ...,\n",
    "        description=\"Fasting blood sugar [1: if FastingBS > 120 mg/dl, 0: otherwise]\",\n",
    "    )\n",
    "    max_heart_rate: int = Field(\n",
    "        ...,\n",
    "        ge=60,\n",
    "        le=300,\n",
    "        description=\"Maximum heart rate achieved [Numeric value between 60 and 202]\",\n",
    "    )\n",
    "    exercise_angina: bool\n",
    "    old_peak: float = Field(\n",
    "        ...,\n",
    "        ge=-10,\n",
    "        le=10,\n",
    "        description=\"Oldpeak = ST [Numeric value measured in depression]\",\n",
    "    )\n",
    "    st_slope: StSlope\n",
    "\n",
    "\n",
    "class HeartBeatSchema(HeartBeatCreateSchema):\n",
    "    id: str\n",
    "    heart_disease: bool\n"
   ]
  },
  {
   "cell_type": "markdown",
   "metadata": {},
   "source": [
    "## Building the Bot\n",
    "\n",
    "We’ll now define a bot that predicts whether someone has heart disease based on their health data. Here’s how it functions:\n",
    "\n",
    "1. **Initialization**: When we create our `Bot`, we supply it with the pretrained model we’ve previously developed.\n",
    "2. **Data Processing**: When the bot receives a new health report in the form of a `HeartBeatCreateSchem` payload, it first converts this data into a format compatible with the model—using a pandas DataFrame, which was the format used during training.\n",
    "3. **Prediction**: The bot then feeds the processed data into the model. The model evaluates the input and provides a prediction, indicating whether heart disease is likely with a `True` or `False`."
   ]
  },
  {
   "cell_type": "code",
   "execution_count": null,
   "metadata": {},
   "outputs": [],
   "source": [
    "from sklearn.pipeline import Pipeline\n",
    "import pandas as pd\n",
    "\n",
    "\n",
    "class Bot(object):\n",
    "    def __init__(self, model: Pipeline) -> None:\n",
    "        self._model = model\n",
    "\n",
    "    def predict(self, heartbeat: HeartBeatCreateSchema) -> bool:\n",
    "        payload = {\n",
    "            \"Age\": heartbeat.age,\n",
    "            \"Sex\": heartbeat.sex,\n",
    "            \"ChestPain\": heartbeat.chest_pain_type,\n",
    "            \"FastingBS\": heartbeat.fasting_blood_sugar,\n",
    "            \"MaxHR\": heartbeat.max_heart_rate,\n",
    "            \"ExerciseAngina\": heartbeat.exercise_angina,\n",
    "            \"Oldpeak\": heartbeat.old_peak,\n",
    "            \"ST_Slope\": heartbeat.st_slope,\n",
    "        }\n",
    "\n",
    "        return self._model.predict(pd.DataFrame([payload]))[0]\n"
   ]
  },
  {
   "cell_type": "markdown",
   "metadata": {},
   "source": [
    "## Loading settings from `env`\n",
    "\n",
    "Below we use [`pydantic-settings`](https://docs.pydantic.dev/latest/concepts/pydantic_settings/) to set up the configuration for our application. `pydantic-settings` is a powerful tool that simplifies managing and validating configuration settings with ease.\n",
    "\n",
    "At the moment, our application might seem simple with just a path to our machine learning model checkpoint. However, as our project grows, we'll need to handle more complex configurations like database connection strings. In real-world applications, having a robust configuration management system is crucial for handling various settings and ensuring everything runs smoothly.\n",
    "\n",
    "The magic happens in the `Settings` class, which is like our app’s personal assistant for configuration. It knows to read environment variables with the prefix `BACKEND_`, and ignore extra junk. As we already mentioned, we’ve only got a `checkpoint_path` that points to our model file, making sure our app knows exactly where to find it."
   ]
  },
  {
   "cell_type": "code",
   "execution_count": null,
   "metadata": {},
   "outputs": [],
   "source": [
    "from fastapi import Depends\n",
    "from fastapi.requests import Request\n",
    "import joblib\n",
    "\n",
    "from pathlib import Path\n",
    "from pydantic_settings import BaseSettings, SettingsConfigDict\n",
    "\n",
    "\n",
    "\n",
    "class Settings(BaseSettings):\n",
    "    model_config = SettingsConfigDict(\n",
    "        env_prefix=\"BACKEND_\",\n",
    "        env_file_encoding=\"utf-8\",\n",
    "        env_nested_delimiter=\"__\",\n",
    "        extra=\"ignore\",\n",
    "    )\n",
    "\n",
    "    checkpoint_path: Path = Path().cwd().parent / \"data\" / \"model.joblib\""
   ]
  },
  {
   "cell_type": "markdown",
   "metadata": {},
   "source": [
    "## Dependency Injection\n",
    "\n",
    "We now define a few FastAPI dependencies. Before diving deeper into the code, let's take a fun detour into the world of [**Dependency Injection (DI)**](https://en.wikipedia.org/wiki/Dependency_injection). Dependency Injection (DI) is like having a personal assistant for your code. You tell FastAPI what your functions need, and it magically delivers those needs without you lifting a finger. It’s like asking a party planner for snacks, drinks, and music—you just specify what you want, and they handle the rest.\n",
    "\n",
    "> In FastAPI, `Depends` is like your personal concierge, fetching and delivering all the required dependencies right when you need them.\n",
    "\n",
    "Now, let’s look at the code:\n",
    "\n",
    "- `get_settings`: Think of this as our settings factory, handing you a `Settings` object with all you need.\n",
    "- `get_bot`: Here’s where FastAPI’s magic happens. It uses `Depends` to automatically provide the `Settings` needed to load our model and create a `Bot`."
   ]
  },
  {
   "cell_type": "code",
   "execution_count": null,
   "metadata": {},
   "outputs": [],
   "source": [
    "async def get_settings() -> Settings:\n",
    "    return Settings()\n",
    "\n",
    "async def get_bot(request: Request, settings: Settings = Depends(get_settings)):\n",
    "    model = joblib.load(settings.checkpoint_path)\n",
    "\n",
    "    return Bot(model)"
   ]
  },
  {
   "cell_type": "markdown",
   "metadata": {},
   "source": [
    "## Defining the API"
   ]
  },
  {
   "cell_type": "markdown",
   "metadata": {},
   "source": [
    "Let's now set up our FastAPI app with a splash of personality:\n",
    "\n",
    "- `title=\"HeartBeat\"`: The grand name of our app, ready to monitor those heartbeats!\n",
    "- `description=\"A heart failure detection system\"`: A quick pitch on what our app does—keeping hearts healthy.\n",
    "- `version=\"1.0.0\"`: Our app’s debut version—fresh and ready to go.\n",
    "- `contact`: We’re adding a personal touch with the creator’s info, just in case anyone wants to drop a thank you note.\n",
    "- `docs_url=\"/\"`: The URL where our app’s documentation will live, making it super easy to check out."
   ]
  },
  {
   "cell_type": "code",
   "execution_count": null,
   "metadata": {},
   "outputs": [],
   "source": [
    "from fastapi import Depends, status, FastAPI, HTTPException\n",
    "from uuid import uuid4\n",
    "\n",
    "app: FastAPI = FastAPI(\n",
    "    title=\"HeartBeat\",\n",
    "    description=\"A heart failure detection system\",\n",
    "    version=\"1.0.0\",\n",
    "    contact={\n",
    "        \"name\": \"Vassilis Sioros\",\n",
    "        \"email\": \"billsioros97@gmail.com\",\n",
    "    },\n",
    "    docs_url=\"/\",\n",
    ")"
   ]
  },
  {
   "cell_type": "markdown",
   "metadata": {},
   "source": [
    "We now add a new endpoint at `/api/v1/predict` where we can send heart data and get predictions in return. Here's the scoop:\n",
    "\n",
    "1. Our function takes heart data (`heartbeat`) and a `Bot` instance (automatically provided by FastAPI’s DI system).\n",
    "2. The bot makes a prediction based on the heart data.\n",
    "3. It creates a new `HeartBeatSchema` with a unique ID and the prediction result, ready to be sent back to the requester.\n",
    "\n",
    "> The `@api.post` decorator is a neat way to tell FastAPI, *\"Hey, this function should handle POST requests here!\"* If you're curious about how decorators work, check out this insightful [**RealPython article**](https://realpython.com/primer-on-python-decorators/) for a deep dive."
   ]
  },
  {
   "cell_type": "code",
   "execution_count": null,
   "metadata": {},
   "outputs": [],
   "source": [
    "@app.post(\n",
    "    \"/api/v1/predict\",\n",
    "    response_model=HeartBeatSchema,\n",
    "    status_code=status.HTTP_201_CREATED,\n",
    ")\n",
    "async def predict(\n",
    "    heartbeat: HeartBeatCreateSchema,\n",
    "    bot: Bot = Depends(get_bot),\n",
    "):\n",
    "    try:\n",
    "        result = bot.predict(heartbeat)\n",
    "\n",
    "        return HeartBeatSchema(\n",
    "            id=str(uuid4()),\n",
    "            heart_disease=result,\n",
    "            **heartbeat.model_dump(),\n",
    "        )\n",
    "    except Exception as e:\n",
    "        raise HTTPException(status_code=status.HTTP_500_INTERNAL_SERVER_ERROR, detail=\"Unexpected error.\") from e"
   ]
  },
  {
   "cell_type": "markdown",
   "metadata": {},
   "source": [
    "Alright, so here’s the deal: To get our FastAPI app running in Google Colab, we use a few clever tricks since Colab isn’t set up for local servers.\n",
    "\n",
    "- **CORS Middleware**: This allows our API to accept requests from any origin, so we don’t run into any cross-origin hiccups.\n",
    "- **Ngrok**: Think of this as a magic tunnel that lets the world see our local server by giving it a public URL. Pretty cool, right?\n",
    "- **Nest Asyncio**: This helps our event loop run smoothly in the Colab environment.\n",
    "- **Uvicorn**: This is our server that runs the FastAPI app on port 8000."
   ]
  },
  {
   "cell_type": "code",
   "execution_count": null,
   "metadata": {},
   "outputs": [],
   "source": [
    "from fastapi.middleware.cors import CORSMiddleware\n",
    "import nest_asyncio\n",
    "from pyngrok import ngrok\n",
    "import uvicorn\n",
    "\n",
    "app.add_middleware(\n",
    "    CORSMiddleware,\n",
    "    allow_origins=[\"*\"],\n",
    "    allow_credentials=True,\n",
    "    allow_methods=[\"*\"],\n",
    "    allow_headers=[\"*\"],\n",
    ")\n",
    "\n",
    "ngrok_tunnel = ngrok.connect(8000)\n",
    "print(\"Public URL:\", ngrok_tunnel.public_url)\n",
    "nest_asyncio.apply()\n",
    "uvicorn.run(app, port=8000)"
   ]
  },
  {
   "cell_type": "markdown",
   "metadata": {},
   "source": [
    "We’re up and running! For running FastAPI locally on your own machine, you just need this (_No Ngrok or Colab magic required—just simple and direct!_):\n",
    "\n",
    "```python\n",
    "import uvicorn\n",
    "\n",
    "if __name__ == \"__main__\":\n",
    "    uvicorn.run(app, host=\"0.0.0.0\", port=8000)\n",
    "```"
   ]
  },
  {
   "cell_type": "markdown",
   "metadata": {},
   "source": [
    "We’ve dived into the exciting world of FastAPI, set up a REST API, and even integrated it with a machine learning model to build a heart failure detection system.\n",
    "\n",
    "Stay tuned for our upcoming blog posts, where we’ll explore deploying applications with Docker and Docker Compose, handling data persistence with databases, and much more!"
   ]
  }
 ],
 "metadata": {
  "kernelspec": {
   "display_name": ".env",
   "language": "python",
   "name": "python3"
  },
  "language_info": {
   "codemirror_mode": {
    "name": "ipython",
    "version": 3
   },
   "file_extension": ".py",
   "mimetype": "text/x-python",
   "name": "python",
   "nbconvert_exporter": "python",
   "pygments_lexer": "ipython3",
   "version": "3.11.4"
  }
 },
 "nbformat": 4,
 "nbformat_minor": 2
}
